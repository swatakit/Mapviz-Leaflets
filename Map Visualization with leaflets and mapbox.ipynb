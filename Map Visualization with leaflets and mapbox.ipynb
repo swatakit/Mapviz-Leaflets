{
 "cells": [
  {
   "cell_type": "markdown",
   "metadata": {},
   "source": [
    " <font face=\"Verdana, cursive, sans-serif\" >\n",
    " <H1><center>Map Visualization with leaflets.js and mapbox.js</center></H1>"
   ]
  },
  {
   "cell_type": "markdown",
   "metadata": {},
   "source": [
    "<font face=\"Verdana, cursive, sans-serif\" >\n",
    "\n",
    "<p>This notebook explains how to overlay data on a geo shape file. There 2 parts in this program. The first part explains how to add new attributes from a csv file to a shape-json file. The second part explain how the pre-coded javascript works</p>\n",
    "\n",
    "<b>Self-paced Learning Resources</b>\n",
    "<ul>\n",
    "    <li><a href=\"https://www.youtube.com/watch?v=SCAqyPfwzcU\">Complete leaflets tutorial</a></li>\n",
    "    <li><a href=\"http://leafletjs.com/examples/choropleth/\">Leaflet.js - Interactive Choropleth</a></li>\n",
    "    <li><a href=\"https://www.mapbox.com/help/tutorials/\">Mapbox turorials</a></li>\n",
    "    <li><a href=\"https://www.mapbox.com/api-documentation/#maps\">Mapbox style</a></li>\n",
    "    <li><a href=\"https://github.com/codeforamerica/click_that_hood/tree/master/public/data\">Country Polygon Files</a></li>\n",
    "</ul>\n"
   ]
  },
  {
   "cell_type": "markdown",
   "metadata": {},
   "source": [
    " <font face=\"Verdana, cursive, sans-serif\" >\n",
    " <br>\n",
    " <H2>Part 1 : Merge  GeoJson with external Data </H2>\n",
    "<br>\n",
    " <img src=\"./image/part1.png\" >"
   ]
  },
  {
   "cell_type": "markdown",
   "metadata": {},
   "source": [
    "<font face=\"Verdana, cursive, sans-serif\" >\n",
    "<h3>Importing packages</h3>"
   ]
  },
  {
   "cell_type": "markdown",
   "metadata": {},
   "source": [
    "The json package is used for processing json format files in python\n",
    "https://docs.python.org/2/library/json.html"
   ]
  },
  {
   "cell_type": "code",
   "execution_count": 1,
   "metadata": {},
   "outputs": [],
   "source": [
    "import pandas as pd\n",
    "import numpy as np\n",
    "import json"
   ]
  },
  {
   "cell_type": "markdown",
   "metadata": {},
   "source": [
    "<font face=\"Verdana, cursive, sans-serif\" >\n",
    "<h3>Define input / output files</h3>"
   ]
  },
  {
   "cell_type": "code",
   "execution_count": 2,
   "metadata": {},
   "outputs": [],
   "source": [
    "data_csvfile = './data/ext_province_th.csv'\n",
    "shape_jsonfile = './data/thailand.json'\n",
    "output_js = './data/th_geo.js'"
   ]
  },
  {
   "cell_type": "markdown",
   "metadata": {},
   "source": [
    "<font face=\"Verdana, cursive, sans-serif\" >\n",
    "<h3>Depends on the csv file, carefully identify the key needed to use for merging</h3>\n",
    "<p>\n",
    "<img src=\"./image/th_key.png\" >\n",
    "\n",
    "Note that the key values should be: <b>cleaned, upcased and no spaces</b>"
   ]
  },
  {
   "cell_type": "code",
   "execution_count": 3,
   "metadata": {},
   "outputs": [],
   "source": [
    "#this is the key column to merge btw the shape file and the external data\n",
    "key='provinces'"
   ]
  },
  {
   "cell_type": "markdown",
   "metadata": {},
   "source": [
    "<font face=\"Verdana, cursive, sans-serif\" >\n",
    "<h3>Read and pre-process the csv data</h3>\n",
    "<p>Please note that the csv data used in this program a a mockup data</p>"
   ]
  },
  {
   "cell_type": "code",
   "execution_count": 4,
   "metadata": {},
   "outputs": [
    {
     "data": {
      "text/html": [
       "<div>\n",
       "<style scoped>\n",
       "    .dataframe tbody tr th:only-of-type {\n",
       "        vertical-align: middle;\n",
       "    }\n",
       "\n",
       "    .dataframe tbody tr th {\n",
       "        vertical-align: top;\n",
       "    }\n",
       "\n",
       "    .dataframe thead th {\n",
       "        text-align: right;\n",
       "    }\n",
       "</style>\n",
       "<table border=\"1\" class=\"dataframe\">\n",
       "  <thead>\n",
       "    <tr style=\"text-align: right;\">\n",
       "      <th></th>\n",
       "      <th>provinces</th>\n",
       "      <th>total_pop</th>\n",
       "      <th>avg_income</th>\n",
       "      <th>mkt_penlt</th>\n",
       "    </tr>\n",
       "  </thead>\n",
       "  <tbody>\n",
       "    <tr>\n",
       "      <th>0</th>\n",
       "      <td>MAEHONGSON</td>\n",
       "      <td>83000</td>\n",
       "      <td>8654</td>\n",
       "      <td>5.9</td>\n",
       "    </tr>\n",
       "    <tr>\n",
       "      <th>1</th>\n",
       "      <td>CHUMPHON</td>\n",
       "      <td>40000</td>\n",
       "      <td>2691</td>\n",
       "      <td>52.5</td>\n",
       "    </tr>\n",
       "    <tr>\n",
       "      <th>2</th>\n",
       "      <td>NAKHONSITHAMMARAT</td>\n",
       "      <td>59000</td>\n",
       "      <td>4843</td>\n",
       "      <td>61.5</td>\n",
       "    </tr>\n",
       "    <tr>\n",
       "      <th>3</th>\n",
       "      <td>PHUKET</td>\n",
       "      <td>4000</td>\n",
       "      <td>2875</td>\n",
       "      <td>89.3</td>\n",
       "    </tr>\n",
       "    <tr>\n",
       "      <th>4</th>\n",
       "      <td>PHANGNGA</td>\n",
       "      <td>73000</td>\n",
       "      <td>7864</td>\n",
       "      <td>38.4</td>\n",
       "    </tr>\n",
       "  </tbody>\n",
       "</table>\n",
       "</div>"
      ],
      "text/plain": [
       "           provinces  total_pop  avg_income  mkt_penlt\n",
       "0         MAEHONGSON      83000        8654        5.9\n",
       "1           CHUMPHON      40000        2691       52.5\n",
       "2  NAKHONSITHAMMARAT      59000        4843       61.5\n",
       "3             PHUKET       4000        2875       89.3\n",
       "4           PHANGNGA      73000        7864       38.4"
      ]
     },
     "execution_count": 4,
     "metadata": {},
     "output_type": "execute_result"
    }
   ],
   "source": [
    "data_csv = pd.read_csv(data_csvfile)\n",
    "data_csv.fillna(0,inplace=True)\n",
    "data_csv.head()"
   ]
  },
  {
   "cell_type": "code",
   "execution_count": 5,
   "metadata": {},
   "outputs": [],
   "source": [
    "# Pre-processing (convert numeric to same serializable format )\n",
    "for col in data_csv.columns:\n",
    "    if data_csv[col].dtype == 'int64':\n",
    "        data_csv[col] = data_csv[col].astype(np.float64)"
   ]
  },
  {
   "cell_type": "markdown",
   "metadata": {},
   "source": [
    "<font face=\"Verdana, cursive, sans-serif\" >\n",
    "<h3>Read and pre-process the shape file</h3>\n",
    "\n",
    "<p>Depends on the shape file, carefully identify the features-names needed to use for processing and merging\n",
    "<p>\n",
    "<img src=\"./image/th_shapejson.png\" >"
   ]
  },
  {
   "cell_type": "code",
   "execution_count": 6,
   "metadata": {},
   "outputs": [
    {
     "name": "stdout",
     "output_type": "stream",
     "text": [
      "77\n"
     ]
    }
   ],
   "source": [
    "with open(shape_jsonfile, \"r\") as jsonFile:\n",
    "    data_shapejson = json.load(jsonFile)\n",
    "\n",
    "#grab all nodes, put it in a dictionary for later processing \n",
    "geo_map = {}\n",
    "for f in data_shapejson['features']:\n",
    "    k = f['properties']['name']\n",
    "    v = k.replace(\" \",\"\").upper()\n",
    "    geo_map[k] = v \n",
    "\n",
    "# It is good to check the number of nodes that we have, for Thailand, it should be 77 because we have 77 provinces\n",
    "print(len(geo_map))\n",
    "    "
   ]
  },
  {
   "cell_type": "markdown",
   "metadata": {},
   "source": [
    "<font face=\"Verdana, cursive, sans-serif\" >\n",
    "<h3>For each item in csv, add a new node 'info' at the corresponding key</h3>"
   ]
  },
  {
   "cell_type": "code",
   "execution_count": 7,
   "metadata": {},
   "outputs": [],
   "source": [
    "for f in data_shapejson['features']:\n",
    "    info = {}\n",
    "    name = f['properties']['name']\n",
    "    info['name'] = name\n",
    "    \n",
    "    if not name in geo_map.keys():\n",
    "        continue\n",
    "    \n",
    "    value_df = data_csv[data_csv[key]==geo_map[name]].reset_index(drop=True)\n",
    "\n",
    "    for col in [x for x in data_csv.columns.values if x not in [key]]:\n",
    "        info[col] = value_df[col].values[0]\n",
    "    \n",
    "    f['info'] = info\n",
    "\n",
    " "
   ]
  },
  {
   "cell_type": "code",
   "execution_count": 8,
   "metadata": {},
   "outputs": [
    {
     "name": "stdout",
     "output_type": "stream",
     "text": [
      "Mae Hong Son\n",
      "83000.0\n",
      "8654.0\n",
      "5.9\n"
     ]
    }
   ],
   "source": [
    "print(data_shapejson['features'][0]['properties']['name'])\n",
    "print(data_shapejson['features'][0]['info']['total_pop'])\n",
    "print(data_shapejson['features'][0]['info']['avg_income'])\n",
    "print(data_shapejson['features'][0]['info']['mkt_penlt'])"
   ]
  },
  {
   "cell_type": "markdown",
   "metadata": {},
   "source": [
    "<font face=\"Verdana, cursive, sans-serif\" >\n",
    "<h3>Save data+shape json into a javascript file</h3>\n",
    "<p><code>var locationId</code> is needed for leaflets.js, hence we are going to assigned the whole json body into this variable and save it into a javascript file"
   ]
  },
  {
   "cell_type": "code",
   "execution_count": 9,
   "metadata": {},
   "outputs": [],
   "source": [
    "tmp = json.dumps(data_shapejson)\n",
    "output_var = 'var locationId = [' + tmp + ']'"
   ]
  },
  {
   "cell_type": "code",
   "execution_count": 10,
   "metadata": {},
   "outputs": [
    {
     "name": "stdout",
     "output_type": "stream",
     "text": [
      "writing js to ./data/th_geo.js\n"
     ]
    }
   ],
   "source": [
    "print(\"writing js to {}\".format(output_js))\n",
    "with open(output_js, 'w') as the_file:\n",
    "    the_file.write(output_var)"
   ]
  },
  {
   "cell_type": "markdown",
   "metadata": {},
   "source": [
    "<font face=\"Verdana, cursive, sans-serif\" >\n",
    "<br>\n",
    "<H2>Part 2 : Leaflets.js Configuration </H2>\n",
    "\n",
    "<p></p>\n",
    "An html  is provided; of which all actions has been implemented in <code>script/setup_past_1.js</code> and <code>script/setup_part_2.js</code>\n",
    "<br><code>MapViz - Thailand.html</code>\n",
    "<img src=\"./image/mapviz_th.png\" >\n",
    "\n",
    "<p></p>\n",
    "This section shows how all javascripts are imported\n",
    "<img src=\"./image/import_html.png\" >\n",
    "\n",
    "<p></p>\n",
    "This section shows how to add new attributes in the dropdown lists and how to add more color themes\n",
    "<img src=\"./image/color_scale.png\" >\n",
    "\n",
    "Note that, the scales of each themes are calculated dynamically based on the input <code>max,min</code>\n",
    "<br>Should you need to add more themes, please edit <code>script/setup_past_1.js</code>\n",
    "\n",
    "<p></p>\n",
    "To modify the top right title and to configurate which data to show on the top right section\n",
    "<img src=\"./image/hover.png\" >\n",
    "<img src=\"./image/show_hover.png\" >\n",
    "\n",
    "<p></p>\n",
    "To modify popup onclick icon and onclick polygon\n",
    "<img src=\"./image/popup.png\" >\n",
    "\n",
    "<p></p>\n",
    "Finally, this shows how the geojson data get loaded into the html\n",
    "<img src=\"./image/locationId.png\" >\n"
   ]
  },
  {
   "cell_type": "code",
   "execution_count": null,
   "metadata": {},
   "outputs": [],
   "source": []
  }
 ],
 "metadata": {
  "kernelspec": {
   "display_name": "Python 3",
   "language": "python",
   "name": "python3"
  },
  "language_info": {
   "codemirror_mode": {
    "name": "ipython",
    "version": 3
   },
   "file_extension": ".py",
   "mimetype": "text/x-python",
   "name": "python",
   "nbconvert_exporter": "python",
   "pygments_lexer": "ipython3",
   "version": "3.6.4"
  }
 },
 "nbformat": 4,
 "nbformat_minor": 2
}
